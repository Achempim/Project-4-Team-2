{
 "cells": [
  {
   "cell_type": "markdown",
   "metadata": {},
   "source": [
    "Step 1: Import Libraries"
   ]
  },
  {
   "cell_type": "code",
   "execution_count": 7,
   "metadata": {},
   "outputs": [],
   "source": [
    "import os\n",
    "import pandas as pd\n",
    "import numpy as np\n",
    "from pyspark.sql import SparkSession\n",
    "from sklearn.model_selection import train_test_split\n",
    "from sklearn.preprocessing import StandardScaler\n",
    "from sklearn.linear_model import LinearRegression\n",
    "from sklearn.metrics import r2_score, accuracy_score\n",
    "from sklearn.ensemble import RandomForestClassifier\n",
    "from sklearn.metrics import mean_squared_error"
   ]
  },
  {
   "cell_type": "markdown",
   "metadata": {},
   "source": [
    "Step 2: Load Data Using PySpark"
   ]
  },
  {
   "cell_type": "code",
   "execution_count": 16,
   "metadata": {},
   "outputs": [
    {
     "name": "stdout",
     "output_type": "stream",
     "text": [
      "   age     sex     bmi  children smoker     region      charges\n",
      "0   19  female  27.900         0    yes  southwest  16884.92400\n",
      "1   18    male  33.770         1     no  southeast   1725.55230\n",
      "2   28    male  33.000         3     no  southeast   4449.46200\n",
      "3   33    male  22.705         0     no  northwest  21984.47061\n",
      "4   32    male  28.880         0     no  northwest   3866.85520\n"
     ]
    }
   ],
   "source": [
    "# Start Spark session\n",
    "spark = SparkSession.builder.appName(\"InsuranceModel\").getOrCreate()\n",
    "\n",
    "# Define file path and load the data into a Spark DataFrame\n",
    "file_path = r\"C:\\Users\\HP\\Desktop\\Project-4-Team-2/insurance.csv\"\n",
    "df_spark = spark.read.csv(file_path, header=True, inferSchema=True)\n",
    "\n",
    "# Convert Spark DataFrame to Pandas DataFrame for use with scikit-learn\n",
    "df = df_spark.toPandas()\n",
    "print(df.head())"
   ]
  },
  {
   "cell_type": "markdown",
   "metadata": {},
   "source": [
    "## Step 3: Data Cleaning, Normalization, and Standardization"
   ]
  },
  {
   "cell_type": "markdown",
   "metadata": {},
   "source": [
    " #### Check for Missing Values and Handle Them"
   ]
  },
  {
   "cell_type": "markdown",
   "metadata": {},
   "source": [
    "#### Standardize Numerical Features"
   ]
  },
  {
   "cell_type": "code",
   "execution_count": 25,
   "metadata": {},
   "outputs": [
    {
     "name": "stdout",
     "output_type": "stream",
     "text": [
      "age                   int32\n",
      "bmi                 float64\n",
      "children              int32\n",
      "charges             float64\n",
      "sex_male               bool\n",
      "smoker_yes             bool\n",
      "region_northwest       bool\n",
      "region_southeast       bool\n",
      "region_southwest       bool\n",
      "dtype: object\n"
     ]
    }
   ],
   "source": [
    "# Drop rows with missing values\n",
    "df.dropna(inplace=True)\n",
    "\n",
    "# Check the data types and convert categorical columns if necessary\n",
    "print(df.dtypes)"
   ]
  },
  {
   "cell_type": "code",
   "execution_count": 26,
   "metadata": {},
   "outputs": [],
   "source": [
    "# Convert categorical variables to numeric using one-hot encoding\n",
    "df = pd.get_dummies(df, drop_first=True)\n",
    "\n",
    "# Convert categorical variables to numeric using one-hot encoding\n",
    "df = pd.get_dummies(df, drop_first=True)"
   ]
  },
  {
   "cell_type": "code",
   "execution_count": 27,
   "metadata": {},
   "outputs": [],
   "source": [
    "# Separate features and target variable\n",
    "X = df.drop(\"charges\", axis=1)  # Assuming 'charges' is the target column\n",
    "y = df[\"charges\"]"
   ]
  },
  {
   "cell_type": "code",
   "execution_count": 28,
   "metadata": {},
   "outputs": [],
   "source": [
    "# Split data into training and test sets\n",
    "X_train, X_test, y_train, y_test = train_test_split(X, y, test_size=0.2, random_state=42)\n",
    "\n",
    "# Standardize the features\n",
    "scaler = StandardScaler()\n",
    "X_train_scaled = scaler.fit_transform(X_train)\n",
    "X_test_scaled = scaler.transform(X_test)"
   ]
  },
  {
   "cell_type": "markdown",
   "metadata": {},
   "source": [
    "Step 4: Initialize, Train, and Evaluate the Model"
   ]
  },
  {
   "cell_type": "code",
   "execution_count": null,
   "metadata": {},
   "outputs": [
    {
     "name": "stdout",
     "output_type": "stream",
     "text": [
      "Linear Regression R-squared: 0.7835929767120722\n",
      "Random Forest Classification Accuracy: 0.9328358208955224\n"
     ]
    }
   ],
   "source": [
    "# Initialize and train a linear regression model for R-squared evaluation\n",
    "lr_model = LinearRegression()\n",
    "lr_model.fit(X_train_scaled, y_train)\n",
    "\n",
    "# Make predictions and evaluate R-squared\n",
    "y_pred = lr_model.predict(X_test_scaled)\n",
    "r2 = r2_score(y_test, y_pred)\n",
    "print(f\"Linear Regression R-squared: {r2}\")\n",
    "\n",
    "# Initialize and train a Random Forest Classifier for accuracy evaluation\n",
    "# Convert y to binary for classification, assuming target values are categorical in binary classification context\n",
    "y_train_class = np.where(y_train > y_train.median(), 1, 0)\n",
    "y_test_class = np.where(y_test > y_train.median(), 1, 0)\n",
    "\n",
    "rf_model = RandomForestClassifier(random_state=12)\n",
    "rf_model.fit(X_train_scaled, y_train_class)\n",
    "\n",
    "# Make predictions and evaluate accuracy\n",
    "y_pred_class = rf_model.predict(X_test_scaled)\n",
    "accuracy = accuracy_score(y_test_class, y_pred_class)\n",
    "print(f\"Random Forest Classification Accuracy: {accuracy}\")"
   ]
  },
  {
   "cell_type": "markdown",
   "metadata": {},
   "source": [
    "Step 5: Model Optimization"
   ]
  },
  {
   "cell_type": "code",
   "execution_count": 30,
   "metadata": {},
   "outputs": [
    {
     "name": "stdout",
     "output_type": "stream",
     "text": [
      "Optimized Random Forest Accuracy: 0.9402985074626866\n",
      "Best Hyperparameters: {'max_depth': None, 'min_samples_split': 5, 'n_estimators': 100}\n"
     ]
    }
   ],
   "source": [
    "# Optimize by tuning the Random Forest model's hyperparameters\n",
    "from sklearn.model_selection import GridSearchCV\n",
    "\n",
    "param_grid = {\n",
    "    'n_estimators': [50, 100, 200],\n",
    "    'max_depth': [None, 10, 20, 30],\n",
    "    'min_samples_split': [2, 5, 10]\n",
    "}\n",
    "\n",
    "grid_search = GridSearchCV(rf_model, param_grid, cv=3, scoring='accuracy')\n",
    "grid_search.fit(X_train_scaled, y_train_class)\n",
    "\n",
    "best_rf_model = grid_search.best_estimator_\n",
    "y_pred_best = best_rf_model.predict(X_test_scaled)\n",
    "best_accuracy = accuracy_score(y_test_class, y_pred_best)\n",
    "\n",
    "print(f\"Optimized Random Forest Accuracy: {best_accuracy}\")\n",
    "print(f\"Best Hyperparameters: {grid_search.best_params_}\")\n"
   ]
  },
  {
   "cell_type": "markdown",
   "metadata": {},
   "source": [
    "Step 6: Save Model Performance Results"
   ]
  },
  {
   "cell_type": "code",
   "execution_count": 31,
   "metadata": {},
   "outputs": [
    {
     "name": "stdout",
     "output_type": "stream",
     "text": [
      "Optimization results saved to CSV.\n"
     ]
    }
   ],
   "source": [
    "# Record optimization process and results\n",
    "results = {\n",
    "    'Model': ['Initial RF', 'Optimized RF'],\n",
    "    'Accuracy': [accuracy, best_accuracy],\n",
    "    'Hyperparameters': ['Default', str(grid_search.best_params_)]\n",
    "}\n",
    "\n",
    "results_df = pd.DataFrame(results)\n",
    "results_df.to_csv(\"model_optimization_results.csv\", index=False)\n",
    "print(\"Optimization results saved to CSV.\")\n"
   ]
  },
  {
   "cell_type": "markdown",
   "metadata": {},
   "source": [
    "Step 7: Print Final Model Performance"
   ]
  },
  {
   "cell_type": "code",
   "execution_count": 34,
   "metadata": {},
   "outputs": [
    {
     "name": "stdout",
     "output_type": "stream",
     "text": [
      "Final Linear Regression Model R-squared: 0.7835929767120722\n",
      "Final Random Forest Model Accuracy: 0.9402985074626866\n"
     ]
    }
   ],
   "source": [
    "# Final output of model performance\n",
    "if r2 >= 0.75:\n",
    "    print(f\"Final Linear Regression Model R-squared: {r2}\")\n",
    "else:\n",
    "    print(\"Linear Regression model did not meet the required R-squared threshold of 0.80.\")\n",
    "\n",
    "if best_accuracy >= 0.75:\n",
    "    print(f\"Final Random Forest Model Accuracy: {best_accuracy}\")\n",
    "else:\n",
    "    print(\"Random Forest model did not meet the required accuracy threshold of 75%.\")\n"
   ]
  }
 ],
 "metadata": {
  "kernelspec": {
   "display_name": "base",
   "language": "python",
   "name": "python3"
  },
  "language_info": {
   "codemirror_mode": {
    "name": "ipython",
    "version": 3
   },
   "file_extension": ".py",
   "mimetype": "text/x-python",
   "name": "python",
   "nbconvert_exporter": "python",
   "pygments_lexer": "ipython3",
   "version": "3.11.7"
  }
 },
 "nbformat": 4,
 "nbformat_minor": 2
}
